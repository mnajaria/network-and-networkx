{
  "cells": [
    {
      "cell_type": "code",
      "execution_count": null,
      "metadata": {
        "collapsed": true,
        "pycharm": {}
      },
      "outputs": [],
      "source": ""
    },
    {
      "cell_type": "markdown",
      "source": "Networkx Cheatsheet\n\nhttp://sparkandshine.net/en/networkx-application-notes-draw-a-graph-with-matplotlib/",
      "metadata": {
        "pycharm": {
          "metadata": false
        }
      }
    },
    {
      "cell_type": "code",
      "execution_count": null,
      "outputs": [],
      "source": "G(graph)  # A networkx graph\npos(dictionary, optional)  # A dictionary with nodes as keys and positions as values.\n                            # If not specified a spring layout positioning will be computed.\n#                           See networkx.layout for functions that compute node positions.\n\narrows(bool, optional(default\u003dTrue))  # For directed graphs, if True draw arrowheads.\nwith_labels(bool, optional(default\u003dTrue))  # Set to True to draw labels on the nodes.\nax(Matplotlib Axes object, optional)  # Draw the graph in the specified Matplotlib axes.\nnodelist(list, optional(default G.nodes()))  # Draw only specified nodes\nedgelist(list, optional(default\u003dG.edges()))  # Draw only specified edges\nnode_size(scalar or array,           optional(default\u003d300))  # Size of nodes. If an array is\n                                                                # specified it must be the same length as nodelist.\n\nnode_color(color string, or array of floats, (default          \u003d’r’))  # Node color. Can be a single color format\n# string, or a sequence of colors with the same length as nodelist. If numeric values are specified they will \\\n# be mapped to colors using the cmap and vmin,vmax parameters. See matplotlib.scatter for more details.\n\nnode_shape(string, optional(default\u003d’o’))  # The shape of the node. Specification is as matplotlib.scatter marker.\nalpha(float, optional(default\u003d1.0))  # The node and edge transparency\ncmap( colormap, optional(default\u003dNone))  # Colormap for mapping intensities of nodes\n\nvmin, vmax(float, optional(default\u003dNone))  # Minimum and maximum for node colormap scaling\nlinewidths([None | scalar | sequence])  # Line width of symbol border (default \u003d1.0)\nwidth(float, optional(default\u003d1.0))  # Line width of edges\n\nedge_color( string, or array of floats( default\u003d’r’))  # Edge color. Can be a single color format string, or a\n# sequence of colors with the same length as edgelist. If numeric values are specified they will be mapped to\n# colors using the edge_cmap and edge_vmin,edge_vmax parameters.\n\nedge_cmap( colormap, optional(default\u003dNone))  # Colormap for mapping intensities of edges\nedge_vmin, edge_vmax(floats, optional(default\u003dNone))  # Minimum and maximum for edge colormap scaling\nstyle(string, optional(default\u003d’solid’))  # Edge line style (solid|dashed|dotted,dashdot)\nlabels(dictionary, optional(default\u003dNone))  # Node labels in a dictionary keyed by node of text labels\nfont_size(int, optional(default\u003d12))  # Font size for text labels\nfont_color(string, optional(default\u003d’k’ black))  # Font color string\nfont_weight(string, optional(default\u003d’normal’))  # Font weight\nfont_family(string, optional(default\u003d’sans - serif’))  # Font family\nlabel(string, optional)  # Label for graph legend\n\n\nClassic graph operations\nsubgraph(G, nbunch) - induce subgraph of G on nodes in nbunch\nunion(G1,G2) - graph union\ndisjoint_union(G1,G2) - graph union assuming all nodes are different\ncartesian_product(G1,G2) - return Cartesian product graph\ncompose(G1,G2) - combine graphs identifying nodes common to both\ncomplement(G) - graph complement\ncreate_empty_copy(G) - return an empty copy of the same graph class\nconvert_to_undirected(G) - return an undirected representation of G\nconvert_to_directed(G) - return a directed representation of G",
      "metadata": {
        "pycharm": {
          "metadata": false,
          "name": "#%%\n"
        }
      }
    },
    {
      "cell_type": "markdown",
      "source": "Multigraph display",
      "metadata": {
        "pycharm": {
          "metadata": false,
          "name": "#%% md\n"
        }
      }
    },
    {
      "cell_type": "code",
      "execution_count": null,
      "outputs": [],
      "source": "",
      "metadata": {
        "pycharm": {
          "metadata": false,
          "name": "#%%\n"
        }
      }
    },
    {
      "cell_type": "code",
      "execution_count": null,
      "outputs": [],
      "source": "",
      "metadata": {
        "pycharm": {
          "metadata": false,
          "name": "#%% multidigraph\n"
        }
      }
    },
    {
      "cell_type": "markdown",
      "source": "add edge labels",
      "metadata": {
        "pycharm": {
          "metadata": false,
          "name": "#%% md\n"
        }
      }
    },
    {
      "cell_type": "code",
      "source": "G\u003dnx.Graph()\ne \u003d [(\u0027a\u0027, \u0027b\u0027, 0.3), (\u0027b\u0027, \u0027c\u0027, 0.9), (\u0027a\u0027, \u0027c\u0027, 0.5), (\u0027c\u0027, \u0027d\u0027, 1.2)]\nG.add_weighted_edges_from(e)\n\npos \u003d nx.spring_layout(G)\nnx.draw(G,pos,node_size\u003d700)\nnx.draw_networkx_labels(G, pos)\n\nlabels \u003d nx.get_edge_attributes(G, \u0027weight\u0027)\nnx.draw_networkx_edge_labels(G, pos, edge_labels\u003dlabels)\n\nplt.show()\n\n",
      "metadata": {
        "pycharm": {
          "metadata": false,
          "name": "#%% \n"
        }
      },
      "execution_count": null,
      "outputs": []
    },
    {
      "cell_type": "code",
      "execution_count": null,
      "outputs": [],
      "source": "# %%\nsourceFile \u003d os.path.join(\u0027two_component\u0027, \"network_flow.xlsx\")\n\nnet2 \u003d pd.read_excel(io\u003dsourceFile, sheet_name\u003d\"multigraph\")\nimport networkx  as nx\nG\u003d nx.from_pandas_edgelist(net2,source\u003d\"from\",target\u003d\"to\" , edge_attr \u003d [\"capacity\"], create_using\u003dnx.MultiGraph())\nG.add_edges_from([(\"a\",\"b\")])\nnx.draw(G)\nplt.show()",
      "metadata": {
        "pycharm": {
          "metadata": false,
          "name": "#%%\n"
        }
      }
    },
    {
      "cell_type": "code",
      "execution_count": 4,
      "outputs": [
        {
          "name": "stderr",
          "text": [
            "C:\\Users\\User\\Anaconda3\\lib\\site-packages\\networkx\\drawing\\nx_pylab.py:611: MatplotlibDeprecationWarning: isinstance(..., numbers.Number)\n  if cb.is_numlike(alpha):\n"
          ],
          "output_type": "stream"
        },
        {
          "data": {
            "text/plain": "\u003cFigure size 432x288 with 2 Axes\u003e",
            "image/png": "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\u003d\u003d\n"
          },
          "metadata": {
            "needs_background": "light"
          },
          "output_type": "display_data"
        }
      ],
      "source": "import collections\nimport matplotlib.pyplot as plt\nimport networkx as nx\n\nG \u003d nx.gnp_random_graph(100, 0.02)\n\ndegree_sequence \u003d sorted([d for n, d in G.degree()], reverse\u003dTrue)  # degree sequence\n# print \"Degree sequence\", degree_sequence\ndegreeCount \u003d collections.Counter(degree_sequence)\ndeg, cnt \u003d zip(*degreeCount.items())\nfig, ax \u003d plt.subplots()\nplt.bar(deg, cnt, width\u003d0.80, color\u003d\u0027b\u0027)\n\nplt.title(\"Degree Histogram\")\nplt.ylabel(\"Count\")\nplt.xlabel(\"Degree\")\nax.set_xticks([d + 0.4 for d in deg])\nax.set_xticklabels(deg)\n\n# draw graph in inset\nplt.axes([0.4, 0.4, 0.5, 0.5])\nGcc \u003d sorted(nx.connected_component_subgraphs(G), key\u003dlen, reverse\u003dTrue)[0]\npos \u003d nx.spring_layout(G)\nplt.axis(\u0027off\u0027)\nnx.draw_networkx_nodes(G, pos, node_size\u003d20)\nnx.draw_networkx_edges(G, pos, alpha\u003d0.4)\n\nplt.show()",
      "metadata": {
        "pycharm": {
          "metadata": false,
          "name": "#%%\n",
          "is_executing": false
        }
      }
    },
    {
      "cell_type": "markdown",
      "source": "max flow",
      "metadata": {
        "pycharm": {
          "metadata": false
        }
      }
    },
    {
      "cell_type": "code",
      "execution_count": 5,
      "outputs": [
        {
          "name": "stdout",
          "text": [
            "mincost 373\nTrue\nTrue\n"
          ],
          "output_type": "stream"
        }
      ],
      "source": "dg \u003d nx.DiGraph()\ndg.add_edges_from([(1, 2, {\u0027capacity\u0027: 12, \u0027weight\u0027: 4}),\n                   (1, 3, {\u0027capacity\u0027: 20, \u0027weight\u0027: 6}),\n                   (2, 3, {\u0027capacity\u0027: 6, \u0027weight\u0027: -3}),\n                   (2, 6, {\u0027capacity\u0027: 14, \u0027weight\u0027: 1}),\n                   (3, 4, {\u0027weight\u0027: 9}),\n                   (3, 5, {\u0027capacity\u0027: 10, \u0027weight\u0027: 5}),\n                   (4, 2, {\u0027capacity\u0027: 19, \u0027weight\u0027: 13}),\n                   (4, 5, {\u0027capacity\u0027: 4, \u0027weight\u0027: 0}),\n                   (5, 7, {\u0027capacity\u0027: 28, \u0027weight\u0027: 2}),\n                   (6, 5, {\u0027capacity\u0027: 11, \u0027weight\u0027: 1}),\n                   (6, 7, {\u0027weight\u0027: 8}),\n                   (7, 4, {\u0027capacity\u0027: 6, \u0027weight\u0027: 6})])\nmincostFlow \u003d nx.max_flow_min_cost(dg, 1, 7)\nmincost \u003d nx.cost_of_flow(dg, mincostFlow)\nprint (\"mincost\", mincost)\nfrom networkx.algorithms.flow import maximum_flow\nmaxFlow \u003d maximum_flow(dg, 1, 7)[1]\nprint( nx.cost_of_flow(dg, maxFlow) \u003e\u003d mincost)\n\nmincostFlowValue \u003d (sum((mincostFlow[u][7] for u in G.predecessors(7)))\n                     - sum((mincostFlow[7][v] for v in G.successors(7))))\nprint(mincostFlowValue \u003d\u003d nx.maximum_flow_value(G, 1, 7))\n\n\n",
      "metadata": {
        "pycharm": {
          "metadata": false,
          "name": "#%%\n",
          "is_executing": false
        }
      }
    },
    {
      "cell_type": "markdown",
      "source": "back up\n\nimport numpy as np\nimport pandas as pd\nimport os\nimport networkx as nx\nimport matplotlib.pyplot as plt\nimport gurobipy as gu\n\n\ndef read_data(sheetName, header\u003d0):\n    sourceFile \u003d \"network_flow.xlsx\"\n    if not os.path.isfile(sourceFile):\n        sourceFile \u003d os.path.join(\"two_component\", \"network_flow20190516.xlsx\")\n    assert os.path.isfile(sourceFile)\n    df \u003d pd.read_excel(io\u003dsourceFile, sheet_name\u003dsheetName, header\u003dheader)\n\n    if isinstance(header, list):\n\n        if len(header) \u003e 1:\n\n            nets \u003d {}\n            for i in df.columns.levels[0]:\n                nets[i] \u003d df[i].dropna()\n            df \u003d nets\n    return df\n\n\nnet2 \u003d read_data(\"net2\", header\u003d[0, 1])\n\n\n\ndef maxFlowMinCost(diNet):\n    \u0027\u0027\u0027 graph must have one node s and one node t \u0027\u0027\u0027\n    w \u003d {}\n    mfmc \u003d nx.max_flow_min_cost(diNet, s\u003d\u0027s\u0027, t\u003d\u0027t\u0027, capacity\u003d\u0027capacity\u0027, weight\u003d\u0027weight\u0027)\n    for k, v in mfmc.items():\n        if isinstance(v, dict):\n            for k2, v2 in v.items():\n                w[(k, k2)] \u003d (diNet.get_edge_data(k, k2)[\u0027capacity\u0027], v2)\n        else:\n            print(\"oops\")\n    return w\n\n\n# %%\n\n\ndef permianNet():\n    df \u003d pd.read_excel(sourceFile, sheet_name\u003d\"Permian_pipelines\", usecols\u003d\"A:M\", nrows\u003d56)\n\n    df3 \u003d df[[\"from\", \"to\", 2022]]\n    df3 \u003d df3.pivot_table(values\u003d2022, index\u003d[\"from\", \"to\"], aggfunc\u003dnp.sum)\n    nodes \u003d set(df3.index.levels[0]).union(set(df3.index.levels[1])).union([\"end\"])\n    # df2.index \u003d df2.index.values  # convert multinidex to tuple index # no need for this since to dict makes tupel index\n\n    data_dict \u003d df3.to_dict()[2022]\n    end_nodes \u003d {(\"Export\", \"end\"): 100000.0, (\"Refineries\", \"end\"): 100000.0}\n    data_dict \u003d {**data_dict, **end_nodes}\n    nodes_noPermina \u003d list(set(nodes) - set([\"end\", \"Permian\"]))\n\n    # the max flow optimization\n    arcs, capacity \u003d gu.multidict(data_dict)\n    model \u003d gu.Model(\"Permian\")\n    flow \u003d model.addVars(arcs, name\u003d\"flow\")\n    source \u003d model.addVar(name\u003d\"source\")\n    arcCapacity \u003d model.addConstrs((flow[i, j] \u003c\u003d capacity[i, j] for i, j in arcs), \u0027arc capacity\u0027)\n    model.addConstrs((flow.sum(i, \u0027*\u0027) \u003d\u003d flow.sum(\u0027*\u0027, i) for i in nodes_noPermina), name\u003d\"in out flow equality\")\n    model.addConstr(flow.sum(\u0027Permian\u0027, \u0027*\u0027) \u003d\u003d flow.sum(\u0027*\u0027, \u0027end\u0027))\n    model.setObjective(gu.quicksum(flow[\u0027Permian\u0027, j] for i, j in arcs.select(\u0027Permian\u0027, \u0027*\u0027)), sense\u003dgu.GRB.MAXIMIZE)\n    model.write(\u0027permian.lp\u0027)\n    model.optimize()\n\n    underutilized_arcs \u003d {}\n    for k, v in arcCapacity.items():\n        if (v.slack \u003e 0) and (k[1] not in [\"Export\", \"Refineries\", \u0027end\u0027]):\n            underutilized_arcs[k] \u003d v.slack\n\n    plt.figure(figsize\u003d(30, 20))\n    G \u003d nx.DiGraph()\n    G.add_edges_from(arcs)\n    z \u003d {}\n    for a in list(G.node.keys()):\n        z[a] \u003d a[:2]\n    G \u003d nx.relabel_nodes(G, z, copy\u003dFalse)\n    underutilizesd \u003d [(it[0][:2], it[1][:2]) for it in underutilized_arcs.keys()]\n\n    fixed_positions \u003d {\u0027Pe\u0027: (0, 0), \u0027Wi\u0027: (720, 250), \u0027Cu\u0027: (1088, 300), \u0027El\u0027: (1700, 300),\n                       \u0027Lo\u0027: (1250, 100), \u0027Be\u0027: (1622, -300),\n                       \u0027Ho\u0027: (1600, 0), \u0027Se\u0027: (1100, -290),\n                       \u0027Ga\u0027: (700, -300), \u0027Co\u0027: (800, -500),\n                       \u0027Fr\u0027: (1300, -500), \u0027Ga\u0027: (2000, -500),\n                       # \u0027Te\u0027:(1660,-500),\n                       \u0027Me\u0027: (2000, 400),\n                       \u0027La\u0027: (1888, -270), \u0027Lo\u0027: (2168, -200),\n                       \u0027Th\u0027: (800, -400),\n                       \u0027Re\u0027: (2500, 100), \u0027Ex\u0027: (2500, -200), \u0027en\u0027: (2800, -50)}\n\n    fixed_nodes \u003d fixed_positions.keys()\n    pos \u003d nx.spring_layout(G, pos\u003dfixed_positions, fixed\u003dfixed_nodes)\n    nx.draw(G, pos, with_labels\u003dTrue, node_size\u003d4000, font_size\u003d30)\n    nx.draw(G, pos, edgelist\u003dunderutilizesd, width\u003d8, edge_color\u003d\u0027b\u0027)\n    plt.savefig(\"network.jpg\", )\n    plt.show()\n    optimalFlow \u003d {}\n    for k, v in flow.items():\n        optimalFlow[k] \u003d v.x\n    of \u003d pd.DataFrame(pd.Series(optimalFlow)).unstack()[0].fillna(0)\n    of.loc[\"Permian\", :].sum()\n\n    # for c in model.getConstrs():\n    #     if c.Pi \u003e 0:\n    #         print(c.ConstrName, c.Pi)\n\n\npermianNet()\n# %%\nnet1 \u003d read_data(\"net1\")\n\ndg \u003d nx.DiGraph()\nedge_labels \u003d {}\nfor i, elrow in net1.iterrows():\n    dg.add_edge(elrow[0], elrow[1], capacity\u003delrow[2], cost\u003delrow[2])\n    edge_labels[(elrow[0], elrow[1])] \u003d elrow[2]\n\nedge_colors \u003d list(net1.color)\n\n# G.add_weighted_edges_from(net1)\nbb \u003d nx.edge_betweenness_centrality(dg, normalized\u003dFalse)\npos \u003d nx.spring_layout(dg)\ndc \u003d nx.degree_centrality(dg)\ndeg \u003d list(dict(dg.degree).values())\ndeg \u003d [d * 100 for d in deg]\ndg.node[\u0027a\u0027][\u0027fillcolor\u0027] \u003d \u0027red\u0027\nnodes \u003d nx.draw_networkx_nodes(dg, pos, node_color\u003d\u0027blue\u0027, node_size\u003ddeg, alpha\u003d0.5)\n# edges \u003d nx.draw_networkx_edges(G, pos, node_size\u003ddc, arrowstyle\u003d\u0027-\u003e\u0027,\n#                                arrowsize\u003d10, edge_color\u003dedge_colors,\n#                                edge_cmap\u003dplt.cm.Blues, width\u003d2)\nedges \u003d nx.draw_networkx_edges(dg, pos, arrowstyle\u003d\u0027-\u003e\u0027, width\u003dnet1[\"capacity\"].__array__(), edge_color\u003dnet1[\"color\"])\n# nx.draw(G, pos, edge_color\u003dedge_colors, node, with_labels\u003dTrue)\nnx.draw_networkx_labels(dg, pos)\n\n# edge_labels\u003d nx.get_edge_attributes(G,\u0027attr_dict\u0027)\nnx.draw_networkx_edge_labels(dg, pos, edge_labels)\n\nplt.show()\n\n# %%\nfor u in dg.edges.data(\u0027capacity\u0027):\n    print(u)\n\n# %%\nprint(nx.max_flow_min_cost(dg, _s\u003d\u0027a\u0027, _t\u003d\u0027e\u0027, capacity\u003d\"capacity\"))\nprint(nx.maximum_flow(dg, _s\u003d\u0027a\u0027, _t\u003d\u0027e\u0027))\nprint(nx.minimum_cut(dg, _s\u003d\u0027a\u0027, _t\u003d\u0027e\u0027))\n# %%\n# components \u003d nx.connected_components(dg)\ndegree_dict \u003d dict(dg.out_degree(dg.nodes()))\nbetweenness_dict \u003d nx.betweenness_centrality(dg)  # Run betweenness centrality\n# eigenvector_dict \u003d nx.eigenvector_centrality(dg) # Run eigenvector centrality\n\n# Assign each to an attribute in your network\nnx.set_node_attributes(dg, betweenness_dict, \u0027betweenness\u0027)\n# nx.set_node_attributes(dg, eigenvector_dict, \u0027eigenvector\u0027)\nnx.set_node_attributes(dg, degree_dict, \"degree\")\nedge_betweeness \u003d nx.edge_betweenness_centrality(dg)\n\n# %%\nfrom operator import itemgetter\n\nsorted_degree \u003d sorted(degree_dict.items(), key\u003ditemgetter(1), reverse\u003dTrue)\n\n# %% nets\nnets \u003d read_data(\"net3\", header\u003d[0, 1])\n\nnets\n# g3 \u003d nx.from_pandas_edgelist(net3,create_using\u003dnx.DiGraph)\n# nx.draw(g3)\n# plt.show()\n# %%\nnet2 \u003d read_data(\"net2\", header\u003d[0, 1])\nnet2[\u0027nodes\u0027][\u0027pos\u0027] \u003d list(zip(net2[\u0027nodes\u0027].x, net2[\u0027nodes\u0027].y))\nnet2[\u0027nodes\u0027].set_index(net2[\u0027nodes\u0027][\u0027node\u0027], inplace\u003dTrue)\ndg2 \u003d nx.from_pandas_edgelist(net2[\u0027edges\u0027], source\u003d\u0027source\u0027, target\u003d\u0027target\u0027, edge_attr\u003dTrue, create_using\u003dnx.DiGraph)\npos \u003d nx.spring_layout(dg2)\nedge_betweeness \u003d nx.edge_betweenness_centrality(dg2)\nedge_betweeness \u003d dict(zip(edge_betweeness.keys(), [round(v, 2) for v in edge_betweeness.values()]))\n# %%\nnx.draw(dg2, pos\u003dpos, with_labels\u003dTrue)\nnx.draw_networkx_edge_labels(dg2, pos, edge_labels\u003dedge_betweeness)\n\nplt.show()\n\nprint(nx.maximum_flow_value(dg2, _s\u003d1, _t\u003d12, capacity\u003d\"capacity\"))\nprint(nx.maximum_flow(dg2, _s\u003d1, _t\u003d12))\nprint(nx.minimum_cut(dg2, _s\u003d1, _t\u003d12))\n# %%\n# %%\nnet2 \u003d read_data(\"net2\", header\u003d[0, 1])\nnet2[\u0027nodes\u0027][\u0027pos\u0027] \u003d list(zip(net2[\u0027nodes\u0027].x, net2[\u0027nodes\u0027].y))\nnet2[\u0027nodes\u0027].set_index(net2[\u0027nodes\u0027][\u0027node\u0027], inplace\u003dTrue)\ndg2 \u003d nx.from_pandas_edgelist(net2[\u0027edges\u0027], source\u003d\u0027source\u0027, target\u003d\u0027target\u0027, edge_attr\u003dTrue, create_using\u003dnx.DiGraph)\nw \u003d maxFlowMinCost(dg2)\nmfv \u003d nx.maximum_flow_value(dg2, _s\u003d\u0027s\u0027, _t\u003d\u0027t\u0027)\n# %%\nedgeFaultEffectonFlow \u003d {}\nfaultyEdgeFlow \u003d {}\nfor e in dg2.edges:\n    g \u003d dg2.copy()\n    g[e[0]][e[1]][\u0027capacity\u0027] \u003d 0\n    edgeFaultEffectonFlow[e] \u003d maxFlowMinCost(g)\n\n    faultyEdgeFlow[e] \u003d nx.maximum_flow_value(g, _s\u003d\u0027s\u0027, _t\u003d\u0027t\u0027)\n\nfaultDF \u003d pd.DataFrame.from_dict(edgeFaultEffectonFlow)\nfaultDF.set_index(faultDF.index.values, inplace\u003dTrue)\nfaultDF.columns \u003d faultDF.columns.values\nfault2 \u003d faultDF.copy()\n\nfaultDF \u003d faultDF.applymap(lambda x: x[1])\nfaultDF[\"normal\"] \u003d pd.Series(w)\nfaultDF\n# def firstElement(row):\n#     for i, flowww in enumerate(row):\n#\n#         row[i]\u003dflowww[1]\n#     return row\n# faultDF.apply(lambda x: firstElement(x),axis\u003d1)\n\n# %%\n# %%\ne_labels \u003d {}\nebc \u003d nx.edge_betweenness_centrality(dg2)\nfor k, e in w.items():\n    e_labels[k] \u003d str(e) + \"\\n\" + str(round(ebc[k], 3)) + \"-\" + str(mfv - faultyEdgeFlow[k], )\n\n# %%\ndef networkChart(g,pos,e_labels):\n    nx.draw(g, pos\u003dpos, with_labels\u003dTrue)\n    nx.draw_networkx_edge_labels(g, pos\u003dpos, edge_labels\u003de_labels)\n    plt.savefig(str(e)+\u0027.jpg\u0027)\n    plt.show()\n\nnx.draw(dg2, pos\u003dnet2[\u0027nodes\u0027][\u0027pos\u0027].to_dict(), with_labels\u003dTrue)\n\nnx.draw_networkx_edge_labels(dg2, pos\u003dnet2[\u0027nodes\u0027][\u0027pos\u0027].to_dict(), edge_labels\u003de_labels)\nplt.show()\n\n",
      "metadata": {
        "pycharm": {
          "metadata": false,
          "name": "#%% md\n"
        }
      }
    },
    {
      "cell_type": "markdown",
      "source": "geometric \n",
      "metadata": {
        "pycharm": {
          "metadata": false,
          "name": "#%% md\n"
        }
      }
    },
    {
      "cell_type": "code",
      "execution_count": null,
      "outputs": [],
      "source": "",
      "metadata": {
        "pycharm": {
          "metadata": false,
          "name": "#%%\n"
        }
      }
    },
    {
      "cell_type": "code",
      "execution_count": null,
      "outputs": [],
      "source": "G \u003d nx.random_geometric_graph(50, 0.25)\n# position is stored as node attribute data for random_geometric_graph\n\n\npos \u003d nx.get_node_attributes(G, \u0027pos\u0027)\n\n# find node near center (0.5,0.5)\ndmin \u003d 1\nncenter \u003d 0\nfor n in pos:\n    x, y \u003d pos[n]\n    d \u003d (x - 0.5)**2 + (y - 0.5)**2\n    if d \u003c dmin:\n        ncenter \u003d n\n        dmin \u003d d\n\n# color by path length from node near center\np \u003d dict(nx.single_source_shortest_path_length(G, ncenter))\n\nplt.figure(figsize\u003d(20, 20))\nnx.draw_networkx_edges(G, pos, nodelist\u003d[ncenter], alpha\u003d0.4)\nnx.draw_networkx_nodes(G, pos, nodelist\u003dlist(p.keys()),\n                       node_size\u003d80,\n                       node_color\u003dlist(p.values()),\n                       cmap\u003dplt.cm.Reds_r)\nnx.draw_networkx_labels(G,pos)\nplt.xlim(-0.05, 1.05)\nplt.ylim(-0.05, 1.05)\nplt.axis(\u0027off\u0027)\nplt.savefig(\"bignet3.jpg\")\nplt.show()\n\n",
      "metadata": {
        "pycharm": {
          "metadata": false,
          "name": "#%%\n"
        }
      }
    },
    {
      "cell_type": "code",
      "execution_count": 1,
      "outputs": [
        {
          "traceback": [
            "\u001b[1;31m---------------------------------------------------------------------------\u001b[0m",
            "\u001b[1;31mNameError\u001b[0m                                 Traceback (most recent call last)",
            "\u001b[1;32m\u003cipython-input-1-cf37666b8100\u003e\u001b[0m in \u001b[0;36m\u003cmodule\u003e\u001b[1;34m\u001b[0m\n\u001b[1;32m----\u003e 1\u001b[1;33m price \u003d pd.Series(np.random.randn(150).cumsum(),\n\u001b[0m\u001b[0;32m      2\u001b[0m                    index\u003dpd.date_range(\u00272000-1-1\u0027, periods\u003d150, freq\u003d\u0027B\u0027))\n\u001b[0;32m      3\u001b[0m \u001b[1;33m\u001b[0m\u001b[0m\n\u001b[0;32m      4\u001b[0m \u001b[1;33m\u001b[0m\u001b[0m\n\u001b[0;32m      5\u001b[0m \u001b[0mma\u001b[0m \u001b[1;33m\u003d\u001b[0m \u001b[0mprice\u001b[0m\u001b[1;33m.\u001b[0m\u001b[0mrolling\u001b[0m\u001b[1;33m(\u001b[0m\u001b[1;36m20\u001b[0m\u001b[1;33m)\u001b[0m\u001b[1;33m.\u001b[0m\u001b[0mmean\u001b[0m\u001b[1;33m(\u001b[0m\u001b[1;33m)\u001b[0m\u001b[1;33m\u001b[0m\u001b[1;33m\u001b[0m\u001b[0m\n",
            "\u001b[1;31mNameError\u001b[0m: name \u0027pd\u0027 is not defined"
          ],
          "ename": "NameError",
          "evalue": "name \u0027pd\u0027 is not defined",
          "output_type": "error"
        }
      ],
      "source": "",
      "metadata": {
        "pycharm": {
          "metadata": false,
          "name": "#%% \n",
          "is_executing": false
        }
      }
    }
  ],
  "metadata": {
    "language_info": {
      "codemirror_mode": {
        "name": "ipython",
        "version": 2
      },
      "file_extension": ".py",
      "mimetype": "text/x-python",
      "name": "python",
      "nbconvert_exporter": "python",
      "pygments_lexer": "ipython2",
      "version": "2.7.6"
    },
    "kernelspec": {
      "name": "python3",
      "language": "python",
      "display_name": "Python 3"
    }
  },
  "nbformat": 4,
  "nbformat_minor": 0
}